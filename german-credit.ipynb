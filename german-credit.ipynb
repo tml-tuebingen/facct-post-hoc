{
 "cells": [
  {
   "cell_type": "markdown",
   "id": "95804202",
   "metadata": {},
   "source": [
    "# This notebook contains our code for the German Credit Dataset (Sections 4.3 and 4.5 of the paper)"
   ]
  },
  {
   "cell_type": "markdown",
   "id": "55ffb1f1",
   "metadata": {},
   "source": [
    "### The dataset is available from the UCI repository at [this url](https://archive.ics.uci.edu/ml/machine-learning-databases/statlog/german/german.data)"
   ]
  },
  {
   "cell_type": "code",
   "execution_count": 2,
   "id": "061b100a",
   "metadata": {},
   "outputs": [
    {
     "name": "stdout",
     "output_type": "stream",
     "text": [
      "The autoreload extension is already loaded. To reload it, use:\n",
      "  %reload_ext autoreload\n"
     ]
    }
   ],
   "source": [
    "import numpy as np\n",
    "import pandas as pd\n",
    "import matplotlib.pyplot as plt\n",
    "import seaborn as sns\n",
    "\n",
    "import sklearn\n",
    "\n",
    "from sklearn import linear_model\n",
    "import xgboost\n",
    "\n",
    "from sklearn.model_selection import train_test_split\n",
    "\n",
    "import dice_ml\n",
    "from dice_ml.utils import helpers  # helper functions\n",
    "\n",
    "import facct_util as futil\n",
    "\n",
    "%load_ext autoreload\n",
    "%autoreload 2"
   ]
  },
  {
   "cell_type": "markdown",
   "id": "82dfe68e",
   "metadata": {},
   "source": [
    "### Load and prepare the data"
   ]
  },
  {
   "cell_type": "code",
   "execution_count": 3,
   "id": "e5d11c28",
   "metadata": {},
   "outputs": [],
   "source": [
    "feature_names = ['checking account status', 'Duration', 'Credit history', 'Purpose', 'Credit amount',\n",
    "           'Savings account/bonds', 'Present employment since', 'Installment rate in percentage of disposable income',\n",
    "           'Personal status and sex', 'Other debtors / guarantors', 'Present residence since',\n",
    "           'Property', 'Age in years', 'Other installment plans', 'Housing', 'Number of existing credits at this bank',\n",
    "           'Job', ' Number of people being liable to provide maintenance for', 'Telephone', 'foreign worker']\n",
    "\n",
    "cagegorical_features = ['checking account status', 'Credit history', 'Purpose', 'Credit amount',\n",
    "           'Savings account/bonds', 'Present employment since', \n",
    "           'Personal status and sex', 'Other debtors / guarantors',\n",
    "           'Property', 'Other installment plans', 'Housing', \n",
    "           'Job', 'Telephone', 'foreign worker']\n",
    "\n",
    "cts_features = ['Duration', 'Credit amount', 'Installment rate in percentage of disposable income', 'Age in years',\n",
    "                'Number of existing credits at this bank', ' Number of people being liable to provide maintenance for']\n",
    "\n",
    "columns = [*feature_names, 'target' ]"
   ]
  },
  {
   "cell_type": "code",
   "execution_count": 4,
   "id": "1ea709cc",
   "metadata": {},
   "outputs": [
    {
     "data": {
      "text/plain": [
       "(20, 20)"
      ]
     },
     "execution_count": 4,
     "metadata": {},
     "output_type": "execute_result"
    }
   ],
   "source": [
    "len(feature_names), len(cagegorical_features) + len(cts_features)"
   ]
  },
  {
   "cell_type": "code",
   "execution_count": 5,
   "id": "a7048ff4",
   "metadata": {},
   "outputs": [
    {
     "data": {
      "text/html": [
       "<div>\n",
       "<style scoped>\n",
       "    .dataframe tbody tr th:only-of-type {\n",
       "        vertical-align: middle;\n",
       "    }\n",
       "\n",
       "    .dataframe tbody tr th {\n",
       "        vertical-align: top;\n",
       "    }\n",
       "\n",
       "    .dataframe thead th {\n",
       "        text-align: right;\n",
       "    }\n",
       "</style>\n",
       "<table border=\"1\" class=\"dataframe\">\n",
       "  <thead>\n",
       "    <tr style=\"text-align: right;\">\n",
       "      <th></th>\n",
       "      <th>checking account status</th>\n",
       "      <th>Duration</th>\n",
       "      <th>Credit history</th>\n",
       "      <th>Purpose</th>\n",
       "      <th>Credit amount</th>\n",
       "      <th>Savings account/bonds</th>\n",
       "      <th>Present employment since</th>\n",
       "      <th>Installment rate in percentage of disposable income</th>\n",
       "      <th>Personal status and sex</th>\n",
       "      <th>Other debtors / guarantors</th>\n",
       "      <th>Present residence since</th>\n",
       "      <th>Property</th>\n",
       "      <th>Age in years</th>\n",
       "      <th>Other installment plans</th>\n",
       "      <th>Housing</th>\n",
       "      <th>Number of existing credits at this bank</th>\n",
       "      <th>Job</th>\n",
       "      <th>Number of people being liable to provide maintenance for</th>\n",
       "      <th>Telephone</th>\n",
       "      <th>foreign worker</th>\n",
       "    </tr>\n",
       "  </thead>\n",
       "  <tbody>\n",
       "    <tr>\n",
       "      <th>0</th>\n",
       "      <td>0</td>\n",
       "      <td>6</td>\n",
       "      <td>4</td>\n",
       "      <td>4</td>\n",
       "      <td>1169</td>\n",
       "      <td>4</td>\n",
       "      <td>4</td>\n",
       "      <td>4</td>\n",
       "      <td>2</td>\n",
       "      <td>0</td>\n",
       "      <td>4</td>\n",
       "      <td>0</td>\n",
       "      <td>67</td>\n",
       "      <td>2</td>\n",
       "      <td>1</td>\n",
       "      <td>2</td>\n",
       "      <td>2</td>\n",
       "      <td>1</td>\n",
       "      <td>1</td>\n",
       "      <td>0</td>\n",
       "    </tr>\n",
       "    <tr>\n",
       "      <th>1</th>\n",
       "      <td>1</td>\n",
       "      <td>48</td>\n",
       "      <td>2</td>\n",
       "      <td>4</td>\n",
       "      <td>5951</td>\n",
       "      <td>0</td>\n",
       "      <td>2</td>\n",
       "      <td>2</td>\n",
       "      <td>1</td>\n",
       "      <td>0</td>\n",
       "      <td>2</td>\n",
       "      <td>0</td>\n",
       "      <td>22</td>\n",
       "      <td>2</td>\n",
       "      <td>1</td>\n",
       "      <td>1</td>\n",
       "      <td>2</td>\n",
       "      <td>1</td>\n",
       "      <td>0</td>\n",
       "      <td>0</td>\n",
       "    </tr>\n",
       "    <tr>\n",
       "      <th>2</th>\n",
       "      <td>3</td>\n",
       "      <td>12</td>\n",
       "      <td>4</td>\n",
       "      <td>7</td>\n",
       "      <td>2096</td>\n",
       "      <td>0</td>\n",
       "      <td>3</td>\n",
       "      <td>2</td>\n",
       "      <td>2</td>\n",
       "      <td>0</td>\n",
       "      <td>3</td>\n",
       "      <td>0</td>\n",
       "      <td>49</td>\n",
       "      <td>2</td>\n",
       "      <td>1</td>\n",
       "      <td>1</td>\n",
       "      <td>1</td>\n",
       "      <td>2</td>\n",
       "      <td>0</td>\n",
       "      <td>0</td>\n",
       "    </tr>\n",
       "    <tr>\n",
       "      <th>3</th>\n",
       "      <td>0</td>\n",
       "      <td>42</td>\n",
       "      <td>2</td>\n",
       "      <td>3</td>\n",
       "      <td>7882</td>\n",
       "      <td>0</td>\n",
       "      <td>3</td>\n",
       "      <td>2</td>\n",
       "      <td>2</td>\n",
       "      <td>2</td>\n",
       "      <td>4</td>\n",
       "      <td>1</td>\n",
       "      <td>45</td>\n",
       "      <td>2</td>\n",
       "      <td>2</td>\n",
       "      <td>1</td>\n",
       "      <td>2</td>\n",
       "      <td>2</td>\n",
       "      <td>0</td>\n",
       "      <td>0</td>\n",
       "    </tr>\n",
       "    <tr>\n",
       "      <th>4</th>\n",
       "      <td>0</td>\n",
       "      <td>24</td>\n",
       "      <td>3</td>\n",
       "      <td>0</td>\n",
       "      <td>4870</td>\n",
       "      <td>0</td>\n",
       "      <td>2</td>\n",
       "      <td>3</td>\n",
       "      <td>2</td>\n",
       "      <td>0</td>\n",
       "      <td>4</td>\n",
       "      <td>3</td>\n",
       "      <td>53</td>\n",
       "      <td>2</td>\n",
       "      <td>2</td>\n",
       "      <td>2</td>\n",
       "      <td>2</td>\n",
       "      <td>2</td>\n",
       "      <td>0</td>\n",
       "      <td>0</td>\n",
       "    </tr>\n",
       "  </tbody>\n",
       "</table>\n",
       "</div>"
      ],
      "text/plain": [
       "   checking account status  Duration  Credit history  Purpose  Credit amount  \\\n",
       "0                        0         6               4        4           1169   \n",
       "1                        1        48               2        4           5951   \n",
       "2                        3        12               4        7           2096   \n",
       "3                        0        42               2        3           7882   \n",
       "4                        0        24               3        0           4870   \n",
       "\n",
       "   Savings account/bonds  Present employment since  \\\n",
       "0                      4                         4   \n",
       "1                      0                         2   \n",
       "2                      0                         3   \n",
       "3                      0                         3   \n",
       "4                      0                         2   \n",
       "\n",
       "   Installment rate in percentage of disposable income  \\\n",
       "0                                                  4     \n",
       "1                                                  2     \n",
       "2                                                  2     \n",
       "3                                                  2     \n",
       "4                                                  3     \n",
       "\n",
       "   Personal status and sex  Other debtors / guarantors  \\\n",
       "0                        2                           0   \n",
       "1                        1                           0   \n",
       "2                        2                           0   \n",
       "3                        2                           2   \n",
       "4                        2                           0   \n",
       "\n",
       "   Present residence since  Property  Age in years  Other installment plans  \\\n",
       "0                        4         0            67                        2   \n",
       "1                        2         0            22                        2   \n",
       "2                        3         0            49                        2   \n",
       "3                        4         1            45                        2   \n",
       "4                        4         3            53                        2   \n",
       "\n",
       "   Housing  Number of existing credits at this bank  Job  \\\n",
       "0        1                                        2    2   \n",
       "1        1                                        1    2   \n",
       "2        1                                        1    1   \n",
       "3        2                                        1    2   \n",
       "4        2                                        2    2   \n",
       "\n",
       "    Number of people being liable to provide maintenance for  Telephone  \\\n",
       "0                                                  1                  1   \n",
       "1                                                  1                  0   \n",
       "2                                                  2                  0   \n",
       "3                                                  2                  0   \n",
       "4                                                  2                  0   \n",
       "\n",
       "   foreign worker  \n",
       "0               0  \n",
       "1               0  \n",
       "2               0  \n",
       "3               0  \n",
       "4               0  "
      ]
     },
     "execution_count": 5,
     "metadata": {},
     "output_type": "execute_result"
    }
   ],
   "source": [
    "data = pd.read_csv(\"german.data\", sep=' ', header=None)\n",
    "data.columns = columns\n",
    "y = data['target']-1\n",
    "X = data\n",
    "X = X.drop('target', axis=1)\n",
    "cat_columns = X.select_dtypes(['object']).columns\n",
    "X[cat_columns] = X[cat_columns].apply(lambda x: x.astype('category').cat.codes)\n",
    "X.head()"
   ]
  },
  {
   "cell_type": "code",
   "execution_count": 6,
   "id": "be73fae5",
   "metadata": {},
   "outputs": [],
   "source": [
    "X_train, X_test, Y_train, Y_test = train_test_split(X, y, test_size=0.2, random_state=0)"
   ]
  },
  {
   "cell_type": "markdown",
   "id": "a2fea484",
   "metadata": {},
   "source": [
    "### Train a gradient boosted tree"
   ]
  },
  {
   "cell_type": "code",
   "execution_count": 8,
   "id": "4a527be9",
   "metadata": {},
   "outputs": [
    {
     "name": "stdout",
     "output_type": "stream",
     "text": [
      "[13:56:07] WARNING: ../src/learner.cc:1115: Starting in XGBoost 1.3.0, the default evaluation metric used with the objective 'binary:logistic' was changed from 'error' to 'logloss'. Explicitly set eval_metric if you'd like to restore the old behavior.\n"
     ]
    },
    {
     "data": {
      "text/plain": [
       "0.76"
      ]
     },
     "execution_count": 8,
     "metadata": {},
     "output_type": "execute_result"
    }
   ],
   "source": [
    "gbtree = xgboost.XGBClassifier(n_estimators=300, max_depth=5, use_label_encoder=False, random_state=0)\n",
    "gbtree.fit(X_train, Y_train)\n",
    "sklearn.metrics.accuracy_score(Y_test, gbtree.predict(X_test))"
   ]
  },
  {
   "cell_type": "markdown",
   "id": "59e517fe",
   "metadata": {},
   "source": [
    "### Train logistic regresion"
   ]
  },
  {
   "cell_type": "code",
   "execution_count": 9,
   "id": "088bbd6f",
   "metadata": {},
   "outputs": [
    {
     "data": {
      "text/plain": [
       "0.745"
      ]
     },
     "execution_count": 9,
     "metadata": {},
     "output_type": "execute_result"
    }
   ],
   "source": [
    "log_regr = linear_model.LogisticRegression(penalty='none', max_iter=10000)\n",
    "log_regr.fit(X_train, Y_train)\n",
    "\n",
    "sklearn.metrics.accuracy_score(Y_test, log_regr.predict(X_test))"
   ]
  },
  {
   "cell_type": "markdown",
   "id": "baf11c39",
   "metadata": {},
   "source": [
    "### Prepare the data for the DiCE framework"
   ]
  },
  {
   "cell_type": "code",
   "execution_count": 10,
   "id": "8e9ebe9e",
   "metadata": {},
   "outputs": [],
   "source": [
    "df_train = X_train.copy()\n",
    "df_train.insert(20, 'outcome', Y_train.values)\n",
    "df_test = X_test.copy()"
   ]
  },
  {
   "cell_type": "code",
   "execution_count": 11,
   "id": "73a1a9eb",
   "metadata": {},
   "outputs": [],
   "source": [
    "d = dice_ml.Data(dataframe=df_train, continuous_features=cts_features, outcome_name='outcome', enable_categorical=True)"
   ]
  },
  {
   "cell_type": "code",
   "execution_count": 12,
   "id": "0be3e51c",
   "metadata": {},
   "outputs": [],
   "source": [
    "df_train['outcome'] = df_train['outcome'].astype('bool')\n",
    "for cf in cts_features:\n",
    "    df_train[cf] = df_train[cf].astype('float32')"
   ]
  },
  {
   "cell_type": "code",
   "execution_count": 13,
   "id": "9cdc2e82",
   "metadata": {},
   "outputs": [],
   "source": [
    "X_train_dice = d.normalize_data(d.one_hot_encode_data(X_train))\n",
    "X_test_dice = d.normalize_data(d.one_hot_encode_data(X_test))"
   ]
  },
  {
   "cell_type": "code",
   "execution_count": 14,
   "id": "275bc136",
   "metadata": {},
   "outputs": [
    {
     "data": {
      "text/html": [
       "<div>\n",
       "<style scoped>\n",
       "    .dataframe tbody tr th:only-of-type {\n",
       "        vertical-align: middle;\n",
       "    }\n",
       "\n",
       "    .dataframe tbody tr th {\n",
       "        vertical-align: top;\n",
       "    }\n",
       "\n",
       "    .dataframe thead th {\n",
       "        text-align: right;\n",
       "    }\n",
       "</style>\n",
       "<table border=\"1\" class=\"dataframe\">\n",
       "  <thead>\n",
       "    <tr style=\"text-align: right;\">\n",
       "      <th></th>\n",
       "      <th>Duration</th>\n",
       "      <th>Credit amount</th>\n",
       "      <th>Installment rate in percentage of disposable income</th>\n",
       "      <th>Age in years</th>\n",
       "      <th>Number of existing credits at this bank</th>\n",
       "      <th>Number of people being liable to provide maintenance for</th>\n",
       "      <th>checking account status_0</th>\n",
       "      <th>checking account status_1</th>\n",
       "      <th>checking account status_2</th>\n",
       "      <th>checking account status_3</th>\n",
       "      <th>...</th>\n",
       "      <th>Housing_1</th>\n",
       "      <th>Housing_2</th>\n",
       "      <th>Job_0</th>\n",
       "      <th>Job_1</th>\n",
       "      <th>Job_2</th>\n",
       "      <th>Job_3</th>\n",
       "      <th>Telephone_0</th>\n",
       "      <th>Telephone_1</th>\n",
       "      <th>foreign worker_0</th>\n",
       "      <th>foreign worker_1</th>\n",
       "    </tr>\n",
       "  </thead>\n",
       "  <tbody>\n",
       "    <tr>\n",
       "      <th>993</th>\n",
       "      <td>0.470588</td>\n",
       "      <td>0.204083</td>\n",
       "      <td>1.000000</td>\n",
       "      <td>0.196429</td>\n",
       "      <td>0.0</td>\n",
       "      <td>0.0</td>\n",
       "      <td>1</td>\n",
       "      <td>0</td>\n",
       "      <td>0</td>\n",
       "      <td>0</td>\n",
       "      <td>...</td>\n",
       "      <td>1</td>\n",
       "      <td>0</td>\n",
       "      <td>0</td>\n",
       "      <td>0</td>\n",
       "      <td>0</td>\n",
       "      <td>1</td>\n",
       "      <td>0</td>\n",
       "      <td>1</td>\n",
       "      <td>1</td>\n",
       "      <td>0</td>\n",
       "    </tr>\n",
       "    <tr>\n",
       "      <th>859</th>\n",
       "      <td>0.073529</td>\n",
       "      <td>0.183064</td>\n",
       "      <td>0.000000</td>\n",
       "      <td>0.125000</td>\n",
       "      <td>0.0</td>\n",
       "      <td>1.0</td>\n",
       "      <td>0</td>\n",
       "      <td>0</td>\n",
       "      <td>0</td>\n",
       "      <td>1</td>\n",
       "      <td>...</td>\n",
       "      <td>0</td>\n",
       "      <td>0</td>\n",
       "      <td>0</td>\n",
       "      <td>0</td>\n",
       "      <td>1</td>\n",
       "      <td>0</td>\n",
       "      <td>1</td>\n",
       "      <td>0</td>\n",
       "      <td>0</td>\n",
       "      <td>1</td>\n",
       "    </tr>\n",
       "    <tr>\n",
       "      <th>298</th>\n",
       "      <td>0.205882</td>\n",
       "      <td>0.124629</td>\n",
       "      <td>0.666667</td>\n",
       "      <td>0.428571</td>\n",
       "      <td>0.0</td>\n",
       "      <td>0.0</td>\n",
       "      <td>0</td>\n",
       "      <td>0</td>\n",
       "      <td>0</td>\n",
       "      <td>1</td>\n",
       "      <td>...</td>\n",
       "      <td>1</td>\n",
       "      <td>0</td>\n",
       "      <td>0</td>\n",
       "      <td>0</td>\n",
       "      <td>1</td>\n",
       "      <td>0</td>\n",
       "      <td>0</td>\n",
       "      <td>1</td>\n",
       "      <td>1</td>\n",
       "      <td>0</td>\n",
       "    </tr>\n",
       "    <tr>\n",
       "      <th>553</th>\n",
       "      <td>0.117647</td>\n",
       "      <td>0.096016</td>\n",
       "      <td>1.000000</td>\n",
       "      <td>0.142857</td>\n",
       "      <td>0.0</td>\n",
       "      <td>0.0</td>\n",
       "      <td>0</td>\n",
       "      <td>1</td>\n",
       "      <td>0</td>\n",
       "      <td>0</td>\n",
       "      <td>...</td>\n",
       "      <td>1</td>\n",
       "      <td>0</td>\n",
       "      <td>0</td>\n",
       "      <td>0</td>\n",
       "      <td>1</td>\n",
       "      <td>0</td>\n",
       "      <td>1</td>\n",
       "      <td>0</td>\n",
       "      <td>1</td>\n",
       "      <td>0</td>\n",
       "    </tr>\n",
       "    <tr>\n",
       "      <th>672</th>\n",
       "      <td>0.823529</td>\n",
       "      <td>0.556619</td>\n",
       "      <td>0.333333</td>\n",
       "      <td>0.410714</td>\n",
       "      <td>0.0</td>\n",
       "      <td>0.0</td>\n",
       "      <td>0</td>\n",
       "      <td>0</td>\n",
       "      <td>0</td>\n",
       "      <td>1</td>\n",
       "      <td>...</td>\n",
       "      <td>1</td>\n",
       "      <td>0</td>\n",
       "      <td>0</td>\n",
       "      <td>0</td>\n",
       "      <td>0</td>\n",
       "      <td>1</td>\n",
       "      <td>0</td>\n",
       "      <td>1</td>\n",
       "      <td>1</td>\n",
       "      <td>0</td>\n",
       "    </tr>\n",
       "  </tbody>\n",
       "</table>\n",
       "<p>5 rows × 64 columns</p>\n",
       "</div>"
      ],
      "text/plain": [
       "     Duration  Credit amount  \\\n",
       "993  0.470588       0.204083   \n",
       "859  0.073529       0.183064   \n",
       "298  0.205882       0.124629   \n",
       "553  0.117647       0.096016   \n",
       "672  0.823529       0.556619   \n",
       "\n",
       "     Installment rate in percentage of disposable income  Age in years  \\\n",
       "993                                           1.000000        0.196429   \n",
       "859                                           0.000000        0.125000   \n",
       "298                                           0.666667        0.428571   \n",
       "553                                           1.000000        0.142857   \n",
       "672                                           0.333333        0.410714   \n",
       "\n",
       "     Number of existing credits at this bank  \\\n",
       "993                                      0.0   \n",
       "859                                      0.0   \n",
       "298                                      0.0   \n",
       "553                                      0.0   \n",
       "672                                      0.0   \n",
       "\n",
       "      Number of people being liable to provide maintenance for  \\\n",
       "993                                                0.0           \n",
       "859                                                1.0           \n",
       "298                                                0.0           \n",
       "553                                                0.0           \n",
       "672                                                0.0           \n",
       "\n",
       "     checking account status_0  checking account status_1  \\\n",
       "993                          1                          0   \n",
       "859                          0                          0   \n",
       "298                          0                          0   \n",
       "553                          0                          1   \n",
       "672                          0                          0   \n",
       "\n",
       "     checking account status_2  checking account status_3  ...  Housing_1  \\\n",
       "993                          0                          0  ...          1   \n",
       "859                          0                          1  ...          0   \n",
       "298                          0                          1  ...          1   \n",
       "553                          0                          0  ...          1   \n",
       "672                          0                          1  ...          1   \n",
       "\n",
       "     Housing_2  Job_0  Job_1  Job_2  Job_3  Telephone_0  Telephone_1  \\\n",
       "993          0      0      0      0      1            0            1   \n",
       "859          0      0      0      1      0            1            0   \n",
       "298          0      0      0      1      0            0            1   \n",
       "553          0      0      0      1      0            1            0   \n",
       "672          0      0      0      0      1            0            1   \n",
       "\n",
       "     foreign worker_0  foreign worker_1  \n",
       "993                 1                 0  \n",
       "859                 0                 1  \n",
       "298                 1                 0  \n",
       "553                 1                 0  \n",
       "672                 1                 0  \n",
       "\n",
       "[5 rows x 64 columns]"
      ]
     },
     "execution_count": 14,
     "metadata": {},
     "output_type": "execute_result"
    }
   ],
   "source": [
    "X_test_dice.head()"
   ]
  },
  {
   "cell_type": "markdown",
   "id": "b85594b6",
   "metadata": {},
   "source": [
    "### How many counterfactual explanations that work for the gradient boosted tree also work for logistic regression?"
   ]
  },
  {
   "cell_type": "code",
   "execution_count": 15,
   "id": "13a7e557",
   "metadata": {},
   "outputs": [],
   "source": [
    "m_gb = dice_ml.Model(gbtree, backend=\"sklearn\", model_type='classifier')\n",
    "exp_random_gb = dice_ml.Dice(d, m_gb, method=\"random\")"
   ]
  },
  {
   "cell_type": "code",
   "execution_count": 16,
   "id": "db30d99c",
   "metadata": {
    "tags": []
   },
   "outputs": [
    {
     "name": "stderr",
     "output_type": "stream",
     "text": [
      "100%|██████████| 1/1 [00:00<00:00,  3.91it/s]\n",
      "100%|██████████| 1/1 [00:00<00:00,  3.95it/s]\n",
      "100%|██████████| 1/1 [00:00<00:00,  3.35it/s]\n",
      "100%|██████████| 1/1 [00:00<00:00,  3.98it/s]\n",
      "100%|██████████| 1/1 [00:00<00:00,  4.32it/s]\n",
      "100%|██████████| 1/1 [00:00<00:00,  4.13it/s]\n",
      "100%|██████████| 1/1 [00:00<00:00,  4.09it/s]\n",
      "100%|██████████| 1/1 [00:00<00:00,  4.10it/s]\n",
      "100%|██████████| 1/1 [00:00<00:00,  3.52it/s]\n",
      "100%|██████████| 1/1 [00:00<00:00,  4.20it/s]\n",
      "100%|██████████| 1/1 [00:00<00:00,  4.17it/s]\n",
      "100%|██████████| 1/1 [00:00<00:00,  4.04it/s]\n",
      "100%|██████████| 1/1 [00:00<00:00,  4.12it/s]\n",
      "100%|██████████| 1/1 [00:00<00:00,  4.08it/s]\n",
      "100%|██████████| 1/1 [00:00<00:00,  4.05it/s]\n",
      "100%|██████████| 1/1 [00:00<00:00,  4.20it/s]\n",
      "100%|██████████| 1/1 [00:00<00:00,  4.13it/s]\n",
      "100%|██████████| 1/1 [00:00<00:00,  3.84it/s]\n",
      "100%|██████████| 1/1 [00:00<00:00,  2.63it/s]\n",
      "100%|██████████| 1/1 [00:00<00:00,  4.06it/s]\n",
      "100%|██████████| 1/1 [00:00<00:00,  4.12it/s]\n",
      "100%|██████████| 1/1 [00:00<00:00,  4.24it/s]\n",
      "100%|██████████| 1/1 [00:00<00:00,  4.41it/s]\n",
      "100%|██████████| 1/1 [00:00<00:00,  3.97it/s]\n",
      "100%|██████████| 1/1 [00:00<00:00,  4.03it/s]\n",
      "100%|██████████| 1/1 [00:00<00:00,  4.24it/s]\n",
      "100%|██████████| 1/1 [00:00<00:00,  4.14it/s]\n",
      "100%|██████████| 1/1 [00:00<00:00,  4.23it/s]\n",
      "100%|██████████| 1/1 [00:00<00:00,  4.32it/s]\n",
      "100%|██████████| 1/1 [00:00<00:00,  4.04it/s]\n",
      "100%|██████████| 1/1 [00:00<00:00,  4.20it/s]\n",
      "100%|██████████| 1/1 [00:00<00:00,  2.06it/s]\n",
      "100%|██████████| 1/1 [00:00<00:00,  2.78it/s]\n",
      "100%|██████████| 1/1 [00:00<00:00,  4.18it/s]\n",
      "100%|██████████| 1/1 [00:00<00:00,  4.26it/s]\n",
      "100%|██████████| 1/1 [00:00<00:00,  4.22it/s]\n",
      "100%|██████████| 1/1 [00:00<00:00,  4.12it/s]\n",
      "100%|██████████| 1/1 [00:00<00:00,  3.19it/s]\n",
      "100%|██████████| 1/1 [00:00<00:00,  4.11it/s]\n",
      "100%|██████████| 1/1 [00:00<00:00,  4.11it/s]\n",
      "100%|██████████| 1/1 [00:00<00:00,  4.18it/s]\n",
      "100%|██████████| 1/1 [00:00<00:00,  4.25it/s]\n",
      "100%|██████████| 1/1 [00:00<00:00,  4.18it/s]\n",
      "100%|██████████| 1/1 [00:00<00:00,  4.19it/s]\n",
      "100%|██████████| 1/1 [00:00<00:00,  3.89it/s]\n",
      "100%|██████████| 1/1 [00:00<00:00,  4.20it/s]\n",
      "100%|██████████| 1/1 [00:00<00:00,  4.23it/s]\n",
      "100%|██████████| 1/1 [00:00<00:00,  4.24it/s]\n",
      "100%|██████████| 1/1 [00:00<00:00,  4.21it/s]\n",
      "100%|██████████| 1/1 [00:00<00:00,  3.84it/s]"
     ]
    },
    {
     "name": "stdout",
     "output_type": "stream",
     "text": [
      "Fraction of counterfactual explanations that also work for logistic regression: 0.41\n"
     ]
    },
    {
     "name": "stderr",
     "output_type": "stream",
     "text": [
      "\n"
     ]
    }
   ],
   "source": [
    "num_diverse_explanations = 20\n",
    "N = 50\n",
    "cross_counts = 0\n",
    "for i in range(N):\n",
    "    query_instance= df_test[i:i+1]\n",
    "    exp = exp_random_gb.generate_counterfactuals(query_instance, total_CFs=num_diverse_explanations, desired_class=\"opposite\")\n",
    "    for j in range(num_diverse_explanations):\n",
    "        df = exp._cf_examples_list[0].final_cfs_df_sparse[j:j+1] # the j-th counterfactual explanation for the gbtree\n",
    "        x = df.values[0, 0:-1].reshape(1, 20)\n",
    "        if log_regr.predict(x)[0] == gbtree.predict(x)[0]:\n",
    "            cross_counts += 1\n",
    "            \n",
    "print(f'Fraction of counterfactual explanations that also work for logistic regression: {cross_counts/N/num_diverse_explanations}')"
   ]
  },
  {
   "cell_type": "markdown",
   "id": "37d25276",
   "metadata": {},
   "source": [
    "### How many different counterfactual explanations exist for a typical individual that was rejected the credit?\n",
    "#### We say that two counterfactual explanations are 'different' if they modify different subsets of features. This notion could of course be refined."
   ]
  },
  {
   "cell_type": "code",
   "execution_count": 19,
   "id": "4e37b02f",
   "metadata": {},
   "outputs": [],
   "source": [
    "df_test_gb_denied = df_test.drop(df_test.index) # remove data but perserve structure in terms of column names and data types\n",
    "\n",
    "for i in range(200):\n",
    "    query_instance= df_test[i:i+1]\n",
    "    if gbtree.predict(query_instance.values.reshape(1, 20))[0] == 0:\n",
    "        df_test_gb_denied = df_test_gb_denied.append(query_instance)"
   ]
  },
  {
   "cell_type": "code",
   "execution_count": 34,
   "id": "6709dddc",
   "metadata": {},
   "outputs": [
    {
     "name": "stderr",
     "output_type": "stream",
     "text": [
      "100%|██████████| 1/1 [00:09<00:00,  9.79s/it]\n",
      "  0%|          | 0/1 [00:00<?, ?it/s]"
     ]
    },
    {
     "name": "stdout",
     "output_type": "stream",
     "text": [
      "Number of different counterfactual explanations for individual 0:  861\n"
     ]
    },
    {
     "name": "stderr",
     "output_type": "stream",
     "text": [
      "100%|██████████| 1/1 [00:11<00:00, 11.39s/it]\n",
      "  0%|          | 0/1 [00:00<?, ?it/s]"
     ]
    },
    {
     "name": "stdout",
     "output_type": "stream",
     "text": [
      "Number of different counterfactual explanations for individual 1:  966\n"
     ]
    },
    {
     "name": "stderr",
     "output_type": "stream",
     "text": [
      "100%|██████████| 1/1 [00:08<00:00,  8.20s/it]\n",
      "  0%|          | 0/1 [00:00<?, ?it/s]"
     ]
    },
    {
     "name": "stdout",
     "output_type": "stream",
     "text": [
      "Number of different counterfactual explanations for individual 2:  746\n"
     ]
    },
    {
     "name": "stderr",
     "output_type": "stream",
     "text": [
      "100%|██████████| 1/1 [00:10<00:00, 10.73s/it]\n",
      "  0%|          | 0/1 [00:00<?, ?it/s]"
     ]
    },
    {
     "name": "stdout",
     "output_type": "stream",
     "text": [
      "Number of different counterfactual explanations for individual 3:  910\n"
     ]
    },
    {
     "name": "stderr",
     "output_type": "stream",
     "text": [
      "100%|██████████| 1/1 [00:08<00:00,  8.51s/it]\n",
      "  0%|          | 0/1 [00:00<?, ?it/s]"
     ]
    },
    {
     "name": "stdout",
     "output_type": "stream",
     "text": [
      "Number of different counterfactual explanations for individual 4:  839\n"
     ]
    },
    {
     "name": "stderr",
     "output_type": "stream",
     "text": [
      "100%|██████████| 1/1 [00:08<00:00,  8.51s/it]\n",
      "  0%|          | 0/1 [00:00<?, ?it/s]"
     ]
    },
    {
     "name": "stdout",
     "output_type": "stream",
     "text": [
      "Number of different counterfactual explanations for individual 5:  757\n"
     ]
    },
    {
     "name": "stderr",
     "output_type": "stream",
     "text": [
      "100%|██████████| 1/1 [00:11<00:00, 11.36s/it]\n",
      "  0%|          | 0/1 [00:00<?, ?it/s]"
     ]
    },
    {
     "name": "stdout",
     "output_type": "stream",
     "text": [
      "Number of different counterfactual explanations for individual 6:  859\n"
     ]
    },
    {
     "name": "stderr",
     "output_type": "stream",
     "text": [
      "100%|██████████| 1/1 [00:08<00:00,  8.45s/it]"
     ]
    },
    {
     "name": "stdout",
     "output_type": "stream",
     "text": [
      "Only 822 (required 1000)  Diverse Counterfactuals found for the given configuration, perhaps try with different parameters... ; total time taken: 00 min 08 sec\n"
     ]
    },
    {
     "name": "stderr",
     "output_type": "stream",
     "text": [
      "\n",
      "  0%|          | 0/1 [00:00<?, ?it/s]"
     ]
    },
    {
     "name": "stdout",
     "output_type": "stream",
     "text": [
      "Number of different counterfactual explanations for individual 7:  813\n"
     ]
    },
    {
     "name": "stderr",
     "output_type": "stream",
     "text": [
      "100%|██████████| 1/1 [00:08<00:00,  8.33s/it]\n",
      "  0%|          | 0/1 [00:00<?, ?it/s]"
     ]
    },
    {
     "name": "stdout",
     "output_type": "stream",
     "text": [
      "Number of different counterfactual explanations for individual 8:  579\n"
     ]
    },
    {
     "name": "stderr",
     "output_type": "stream",
     "text": [
      "100%|██████████| 1/1 [00:11<00:00, 11.37s/it]\n",
      "  0%|          | 0/1 [00:00<?, ?it/s]"
     ]
    },
    {
     "name": "stdout",
     "output_type": "stream",
     "text": [
      "Number of different counterfactual explanations for individual 9:  848\n"
     ]
    },
    {
     "name": "stderr",
     "output_type": "stream",
     "text": [
      "100%|██████████| 1/1 [00:08<00:00,  8.58s/it]\n",
      "  0%|          | 0/1 [00:00<?, ?it/s]"
     ]
    },
    {
     "name": "stdout",
     "output_type": "stream",
     "text": [
      "Number of different counterfactual explanations for individual 10:  826\n"
     ]
    },
    {
     "name": "stderr",
     "output_type": "stream",
     "text": [
      "100%|██████████| 1/1 [00:10<00:00, 10.30s/it]\n",
      "  0%|          | 0/1 [00:00<?, ?it/s]"
     ]
    },
    {
     "name": "stdout",
     "output_type": "stream",
     "text": [
      "Number of different counterfactual explanations for individual 11:  827\n"
     ]
    },
    {
     "name": "stderr",
     "output_type": "stream",
     "text": [
      "100%|██████████| 1/1 [00:09<00:00,  9.14s/it]\n",
      "  0%|          | 0/1 [00:00<?, ?it/s]"
     ]
    },
    {
     "name": "stdout",
     "output_type": "stream",
     "text": [
      "Number of different counterfactual explanations for individual 12:  858\n"
     ]
    },
    {
     "name": "stderr",
     "output_type": "stream",
     "text": [
      "100%|██████████| 1/1 [00:08<00:00,  8.06s/it]"
     ]
    },
    {
     "name": "stdout",
     "output_type": "stream",
     "text": [
      "Only 785 (required 1000)  Diverse Counterfactuals found for the given configuration, perhaps try with different parameters... ; total time taken: 00 min 08 sec\n"
     ]
    },
    {
     "name": "stderr",
     "output_type": "stream",
     "text": [
      "\n",
      "  0%|          | 0/1 [00:00<?, ?it/s]"
     ]
    },
    {
     "name": "stdout",
     "output_type": "stream",
     "text": [
      "Number of different counterfactual explanations for individual 13:  765\n"
     ]
    },
    {
     "name": "stderr",
     "output_type": "stream",
     "text": [
      "100%|██████████| 1/1 [00:10<00:00, 10.25s/it]\n",
      "  0%|          | 0/1 [00:00<?, ?it/s]"
     ]
    },
    {
     "name": "stdout",
     "output_type": "stream",
     "text": [
      "Number of different counterfactual explanations for individual 14:  736\n"
     ]
    },
    {
     "name": "stderr",
     "output_type": "stream",
     "text": [
      "100%|██████████| 1/1 [00:11<00:00, 11.59s/it]\n",
      "  0%|          | 0/1 [00:00<?, ?it/s]"
     ]
    },
    {
     "name": "stdout",
     "output_type": "stream",
     "text": [
      "Number of different counterfactual explanations for individual 15:  581\n"
     ]
    },
    {
     "name": "stderr",
     "output_type": "stream",
     "text": [
      "100%|██████████| 1/1 [00:13<00:00, 13.43s/it]\n",
      "  0%|          | 0/1 [00:00<?, ?it/s]"
     ]
    },
    {
     "name": "stdout",
     "output_type": "stream",
     "text": [
      "Number of different counterfactual explanations for individual 16:  865\n"
     ]
    },
    {
     "name": "stderr",
     "output_type": "stream",
     "text": [
      "100%|██████████| 1/1 [00:09<00:00,  9.47s/it]\n",
      "  0%|          | 0/1 [00:00<?, ?it/s]"
     ]
    },
    {
     "name": "stdout",
     "output_type": "stream",
     "text": [
      "Number of different counterfactual explanations for individual 17:  973\n"
     ]
    },
    {
     "name": "stderr",
     "output_type": "stream",
     "text": [
      "100%|██████████| 1/1 [00:08<00:00,  8.82s/it]\n",
      "  0%|          | 0/1 [00:00<?, ?it/s]"
     ]
    },
    {
     "name": "stdout",
     "output_type": "stream",
     "text": [
      "Number of different counterfactual explanations for individual 18:  977\n"
     ]
    },
    {
     "name": "stderr",
     "output_type": "stream",
     "text": [
      "100%|██████████| 1/1 [00:09<00:00,  9.46s/it]\n"
     ]
    },
    {
     "name": "stdout",
     "output_type": "stream",
     "text": [
      "Number of different counterfactual explanations for individual 19:  901\n"
     ]
    }
   ],
   "source": [
    "for i_obs in range(20):\n",
    "    query_instance = df_test_gb_denied[i_obs:i_obs+1]\n",
    "    exp = exp_random_gb.generate_counterfactuals(query_instance, total_CFs=1000, desired_class=\"opposite\", verbose=False)\n",
    "    cfs = []\n",
    "    for i_cf in range(exp._cf_examples_list[0].final_cfs_df.shape[0]):\n",
    "        cf = exp._cf_examples_list[0].final_cfs_df[i_cf:i_cf+1]\n",
    "        cf_features = []\n",
    "        for feature in feature_names:\n",
    "            if cf[feature].values[0] != query_instance[feature].values[0]:\n",
    "                cf_features.append(feature)\n",
    "        cfs.append(cf_features)\n",
    "    print(f'Number of different counterfactual explanations for individual {i_obs}: ', len(np.unique(np.array(cfs, dtype=object))))"
   ]
  }
 ],
 "metadata": {
  "kernelspec": {
   "display_name": "Python 3",
   "language": "python",
   "name": "python3"
  },
  "language_info": {
   "codemirror_mode": {
    "name": "ipython",
    "version": 3
   },
   "file_extension": ".py",
   "mimetype": "text/x-python",
   "name": "python",
   "nbconvert_exporter": "python",
   "pygments_lexer": "ipython3",
   "version": "3.8.8"
  }
 },
 "nbformat": 4,
 "nbformat_minor": 5
}
